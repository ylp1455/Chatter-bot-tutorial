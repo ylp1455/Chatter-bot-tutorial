{
  "nbformat": 4,
  "nbformat_minor": 0,
  "metadata": {
    "colab": {
      "provenance": []
    },
    "kernelspec": {
      "name": "python3",
      "display_name": "Python 3"
    }
  },
  "cells": [
    {
      "cell_type": "code",
      "metadata": {
        "id": "hmiDSC4zjYpB"
      },
      "source": [
        "!pip install chatterbot-corpus\n",
        "!pip install chatterbot"
      ],
      "execution_count": null,
      "outputs": []
    },
    {
      "cell_type": "code",
      "metadata": {
        "id": "BYdnliZiD8NM"
      },
      "source": [
        "#Importing modules\n",
        "from chatterbot import ChatBot\n",
        "from chatterbot.trainers import ListTrainer\n",
        "from chatterbot.trainers import ChatterBotCorpusTrainer"
      ],
      "execution_count": null,
      "outputs": []
    },
    {
      "cell_type": "code",
      "metadata": {
        "id": "qfruUuy3EGkt"
      },
      "source": [
        "BankBot = ChatBot(name = 'UniBot',\n",
        "                  read_only = False,\n",
        "                  logic_adapters = [\"chatterbot.logic.BestMatch\"],\n",
        "                  storage_adapter = \"chatterbot.storage.SQLStorageAdapter\")"
      ],
      "execution_count": null,
      "outputs": []
    },
    {
      "cell_type": "code",
      "metadata": {
        "id": "NNISUve-EOTu"
      },
      "source": [
        "corpus_trainer = ChatterBotCorpusTrainer(BankBot)\n",
        "corpus_trainer.train(\"chatterbot.corpus.english\")"
      ],
      "execution_count": null,
      "outputs": []
    },
    {
      "cell_type": "markdown",
      "metadata": {
        "id": "82NixiVxEc7e"
      },
      "source": [
        "Custom training"
      ]
    },
    {
      "cell_type": "code",
      "metadata": {
        "id": "IMzCEUW2EQ9V"
      },
      "source": [
        "greet_conversation = [\n",
        "\"Hello! Welcome to NSBM Green University. How can I help you today?\",\n",
        "\"Hi there! What can I do for you?\",\n",
        "\"Good morning! How are you doing today?\",\n",
        "]\n",
        "\n",
        "open_timings_conversation = [\n",
        "\"NSBM Green University is open from 8:00 AM to 5:00 PM, Monday through Friday.\",\n",
        "\"Are you looking for NSBM Green University's opening hours? We're open from 8:00 AM to 5:00 PM, Monday through Friday.\",\n",
        "\"What are NSBM Green University's hours of operation? We're open from 8:00 AM to 5:00 PM, Monday through Friday.\",\n",
        "]\n",
        "\n",
        "close_timings_conversation = [\n",
        "\"NSBM Green University closes at 5:00 PM, Monday through Friday.\",\n",
        "\"Are you looking for NSBM Green University's closing hours? We close at 5:00 PM, Monday through Friday.\",\n",
        "\"What time does NSBM Green University close? We close at 5:00 PM, Monday through Friday.\",\n",
        "]\n",
        "\n",
        "additional_questions = [\n",
        "\"What are NSBM Green University's hours of operation on weekends?\",\n",
        "\"Are there any exceptions to NSBM Green University's hours of operation?\",\n",
        "\"What are NSBM Green University's holiday hours?\",\n",
        "\"Where can I find more information about NSBM Green University's hours of operation?\",\n",
        "]\n",
        "\n",
        "#Initializing Trainer Object\n",
        "trainer = ListTrainer(BankBot)\n",
        "\n",
        "#Training BankBot\n",
        "trainer.train(greet_conversation)\n",
        "trainer.train(open_timings_conversation)\n",
        "trainer.train(close_timings_conversation)"
      ],
      "execution_count": null,
      "outputs": []
    },
    {
      "cell_type": "code",
      "metadata": {
        "id": "vNY28qQ2EeyO"
      },
      "source": [
        "while (True):\n",
        "    user_input = input()\n",
        "    if (user_input == 'quit'):\n",
        "        break\n",
        "    response = BankBot.get_response(user_input)\n",
        "    print (response)"
      ],
      "execution_count": null,
      "outputs": []
    }
  ]
}